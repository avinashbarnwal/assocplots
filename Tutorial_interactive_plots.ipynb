{
 "cells": [
  {
   "cell_type": "markdown",
   "metadata": {},
   "source": [
    "# Installation"
   ]
  },
  {
   "cell_type": "markdown",
   "metadata": {},
   "source": [
    "```pip install https://github.com/khramts/assocplots/archive/master.zip```"
   ]
  },
  {
   "cell_type": "markdown",
   "metadata": {},
   "source": [
    "This tutorial provides examples of code for interactive Manhattan and QQ pltos. Please note that the interactive figure will not be generated in this notebook, but will be saved as an html output, which should be viewed in a browser. "
   ]
  },
  {
   "cell_type": "markdown",
   "metadata": {},
   "source": [
    "## Data for the tutorial"
   ]
  },
  {
   "cell_type": "markdown",
   "metadata": {},
   "source": [
    "There are two data options presented in this tutorial: mock and real data. One option is to generate mock data, but this is commented out, as we will use real data from the Genetic Investigation of ANthropometric Traits (GIANT) consortium. "
   ]
  },
  {
   "cell_type": "code",
   "execution_count": null,
   "metadata": {
    "collapsed": true
   },
   "outputs": [],
   "source": [
    "# from assocplots.misc import mock_data_generation\n",
    "# data_m, data_w = mock_data_generation(M=100000, seed=42)\n",
    "# data_m['pval'] /= 500000.*np.exp(-(data_m['pos']-10000.)**2/50000.0) * (data_m['chr']=='4') * np.random.rand(len(data_m)) + 1."
   ]
  },
  {
   "cell_type": "markdown",
   "metadata": {},
   "source": [
    "The actual data that we will use comes from the GIANT consortium:\n",
    "https://www.broadinstitute.org/collaboration/giant/index.php/GIANT_consortium_data_files\n",
    "\n",
    "Result are described in Randall JC, Winkler TW, Kutalik Z, Berndt SI, Jackson AU, Monda KL, et al. (2013) Sex-stratified Genome-wide Association Studies Including 270,000 Individuals Show Sexual Dimorphism in Genetic Loci for Anthropometric Traits. PLoS Genet 9(6): e1003500. doi:10.1371/journal.pgen.1003500\n",
    "http://journals.plos.org/plosgenetics/article?id=10.1371/journal.pgen.1003500\n",
    "\n",
    "In this tutorial we will be using one trait (hip circumference) measured in two groups: males and females. These are the files listed under Sex Stratified Anthropometrics subsection. For example, here is one of the files called GIANT_Randall2013PlosGenet_stage1_publicrelease_HapMapCeuFreq_HIP_WOMEN_N.txt and the first couple of lines looks like this:"
   ]
  },
  {
   "cell_type": "markdown",
   "metadata": {},
   "source": [
    "```MarkerName A1 A2 Freq.Hapmap.Ceu BETA SE.2gc P.2gc N\n",
    "rs4747841 a g 0.55 0.0054 0.0080 0.50 40354.8\n",
    "rs4749917 t c 0.45 -0.0054 0.0080 0.50 40354.8\n",
    "rs737656 a g 0.3667 0.0035 0.0083 0.67 40354.7\n",
    "rs737657 a g 0.3583 0.0020 0.0083 0.81 40351.8```"
   ]
  },
  {
   "cell_type": "markdown",
   "metadata": {},
   "source": [
    "The P.2gc column is the p-value of the association test. For the Manhattan plot, besides the p-value, we also need to know SNPs chromosome and genomic position. To obtain the chromosome number and position for each SNP I used a python script called LiftRsNumber.py from this Goncalo Abecasis’ group http://genome.sph.umich.edu/wiki/LiftOver  \n",
    "\n",
    "Since we only need to know the SNP's chromosome, position, and p-value, I generated the following file out of the one above: HIP_WOMEN_chr_pos_rs_pval.txt, where column 1 = chromosome, 2=position, 3=SNP rs number, 4=p-value"
   ]
  },
  {
   "cell_type": "markdown",
   "metadata": {},
   "source": [
    "```10 9918166 rs4747841 0.5\n",
    "10 9918296 rs4749917 0.5\n",
    "10 98252982 rs737656 0.67\n",
    "10 98253133 rs737657 0.81```"
   ]
  },
  {
   "cell_type": "markdown",
   "metadata": {},
   "source": [
    "Alternatively, you can download reduced data from https://gitlab.com/khramts/assocplots_data  \n",
    "\n",
    "# Running the code\n",
    "\n",
    "We will first load all the necessary libaries for the interative plots."
   ]
  },
  {
   "cell_type": "code",
   "execution_count": 15,
   "metadata": {
    "collapsed": false
   },
   "outputs": [],
   "source": [
    "# Load standard libraries\n",
    "import numpy as np\n",
    "from pandas import DataFrame\n",
    "from bokeh.plotting import figure, output_notebook, show, gridplot\n",
    "from bokeh.models import ColumnDataSource, widgets, CustomJS\n",
    "from bokeh.models.glyphs import Circle, Square\n",
    "from bokeh.models import HoverTool\n",
    "\n",
    "from bokeh.models import ColumnDataSource\n",
    "from bokeh.models.widgets import DataTable, DateFormatter, TableColumn\n",
    "from bokeh.io import output_file, show, vform, vplot, hplot\n",
    "\n",
    "\n",
    "# from assocplots.misc import mock_data_generation\n",
    "# data_m, data_w = mock_data_generation(M=100000, seed=42)\n",
    "# data_m['pval'] /= 500000.*np.exp(-(data_m['pos']-10000.)**2/50000.0) * (data_m['chr']=='4') * np.random.rand(len(data_m)) + 1.\n"
   ]
  },
  {
   "cell_type": "markdown",
   "metadata": {},
   "source": [
    "Next, we will read in the data for two groups."
   ]
  },
  {
   "cell_type": "code",
   "execution_count": 10,
   "metadata": {
    "collapsed": true
   },
   "outputs": [],
   "source": [
    "# Reading data\n",
    "data_m = np.genfromtxt('HIP_MEN_chr_pos_rs_pval.txt', dtype=None, names=['chr', 'pos', 'snp', 'pval'])\n",
    "data_w = np.genfromtxt('HIP_WOMEN_chr_pos_rs_pval.txt', dtype=None, names=['chr', 'pos', 'snp', 'pval'])"
   ]
  },
  {
   "cell_type": "markdown",
   "metadata": {},
   "source": [
    "Lastly, we run the code to generate an interactive plot and save it as an html file, which can be opened in a browser.  \n",
    "\n",
    "Note in the code below, that we can specify how many points to show in the plot. In general, interactive visualization made through web browsers are limited by the number of objects they can smoothly display. In the cur-rent example we have selected the top (most significant) N=1,000 SNPs in each of the two groups and are visualizing at most 2,000 dots if there is no overlap between those SNPs. "
   ]
  },
  {
   "cell_type": "code",
   "execution_count": 16,
   "metadata": {
    "collapsed": false
   },
   "outputs": [
    {
     "name": "stdout",
     "output_type": "stream",
     "text": [
      "1845\n",
      "['1', '2', '3', '4', '5', '6', '7', '8', '9', '10', '11', '12', '13', '14', '15', '16', '17', '18', '19', '20', '21', '22']\n",
      "['1', '2', '3', '4', '5', '6', '7', '8', '9', '10', '11', '12', '13', '14', '15', '16', '17', '18', '19', '20', '21', '22']\n",
      "223365432\n",
      "227424729\n",
      "197302525\n",
      "188059749\n",
      "168907610\n",
      "169869259\n",
      "149395829\n",
      "140812162\n",
      "137853384\n",
      "125679973\n",
      "112673227\n",
      "124842643\n",
      "110418919\n",
      "79685882\n",
      "68695730\n",
      "87829123\n",
      "79293084\n",
      "73394425\n",
      "55102359\n",
      "53176497\n",
      "16252984\n",
      "49997051\n",
      "[  0.00000000e+00   2.23365432e+08   2.27424729e+08   1.97302525e+08\n",
      "   1.88059749e+08   1.68907610e+08   1.69869259e+08   1.49395829e+08\n",
      "   1.40812162e+08   1.37853384e+08   1.25679973e+08   1.12673227e+08\n",
      "   1.24842643e+08   1.10418919e+08   7.96858820e+07   6.86957300e+07\n",
      "   8.78291230e+07   7.92930840e+07   7.33944250e+07   5.51023590e+07\n",
      "   5.31764970e+07   1.62529840e+07   4.99970510e+07]\n",
      "[  0.00000000e+00   2.23365432e+08   4.50790161e+08   6.48092686e+08\n",
      "   8.36152435e+08   1.00506004e+09   1.17492930e+09   1.32432513e+09\n",
      "   1.46513730e+09   1.60299068e+09   1.72867065e+09   1.84134388e+09\n",
      "   1.96618652e+09   2.07660544e+09   2.15629132e+09   2.22498705e+09\n",
      "   2.31281618e+09   2.39210926e+09   2.46550368e+09   2.52060604e+09\n",
      "   2.57378254e+09   2.59003552e+09   2.64003258e+09]\n",
      "[  0.00000000e+00   2.23365432e+08   4.50790161e+08   6.48092686e+08\n",
      "   8.36152435e+08   1.00506004e+09   1.17492930e+09   1.32432513e+09\n",
      "   1.46513730e+09   1.60299068e+09   1.72867065e+09   1.84134388e+09\n",
      "   1.96618652e+09   2.07660544e+09   2.15629132e+09   2.22498705e+09\n",
      "   2.31281618e+09   2.39210926e+09   2.46550368e+09   2.52060604e+09\n",
      "   2.57378254e+09   2.59003552e+09   2.64003258e+09]\n",
      "[  1.11682716e+08   3.37077796e+08   5.49441424e+08   7.42122560e+08\n",
      "   9.20606240e+08   1.08999467e+09   1.24962722e+09   1.39473121e+09\n",
      "   1.53406399e+09   1.66583067e+09   1.78500727e+09   1.90376520e+09\n",
      "   2.02139598e+09   2.11644838e+09   2.19063919e+09   2.26890161e+09\n",
      "   2.35246272e+09   2.42880647e+09   2.49305486e+09   2.54719429e+09\n",
      "   2.58190903e+09   2.61503405e+09]\n",
      "['1', '2', '3', '4', '5', '6', '7', '8', '9', '10', '11', '12', '13', '14', '15', '16', '17', '18', '19', '20', '21', '22']\n"
     ]
    }
   ],
   "source": [
    "from assocplots.interactive import *\n",
    "\n",
    "# cut1, cut2, data = data_reduce(data_m, data_w, N=5000)\n",
    "cut1, cut2, data = data_reduce_fast(data_m, data_w, N=1000)\n",
    "\n",
    "p1,p2,p3,p4,pq1 = mann_only_interactive(data, cut1, cut2, chrs_plot=[str(i) for i in range(1,23)])\n",
    "# show(vplot(p1,p2))\n",
    "# show(hplot(pq1,p4))\n",
    "# show(p4)\n",
    "\n",
    "\n",
    "from assocplots.htmloutput import *\n",
    "write_to_html([p1,p2,pq1,p4], filename='output.html', title='Title')\n"
   ]
  }
 ],
 "metadata": {
  "kernelspec": {
   "display_name": "Python 2",
   "language": "python",
   "name": "python2"
  },
  "language_info": {
   "codemirror_mode": {
    "name": "ipython",
    "version": 2
   },
   "file_extension": ".py",
   "mimetype": "text/x-python",
   "name": "python",
   "nbconvert_exporter": "python",
   "pygments_lexer": "ipython2",
   "version": "2.7.11"
  }
 },
 "nbformat": 4,
 "nbformat_minor": 0
}
