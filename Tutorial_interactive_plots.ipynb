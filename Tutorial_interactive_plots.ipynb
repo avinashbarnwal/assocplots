{
 "cells": [
  {
   "cell_type": "markdown",
   "metadata": {},
   "source": [
    "# Installation"
   ]
  },
  {
   "cell_type": "markdown",
   "metadata": {},
   "source": [
    "```pip install https://github.com/khramts/assocplots/archive/master.zip```"
   ]
  },
  {
   "cell_type": "markdown",
   "metadata": {},
   "source": [
    "This tutorial provides examples of code for interactive Manhattan and QQ pltos. Please note that the interactive figure will not be generated in this notebook, but will be saved as an html output, which should be viewed in a browser. "
   ]
  },
  {
   "cell_type": "markdown",
   "metadata": {},
   "source": [
    "## Data for the tutorial"
   ]
  },
  {
   "cell_type": "markdown",
   "metadata": {},
   "source": [
    "There are two data options presented in this tutorial: mock and real data. One option is to generate mock data, but this is commented out, as we will use real data from the Genetic Investigation of ANthropometric Traits (GIANT) consortium. "
   ]
  },
  {
   "cell_type": "code",
   "execution_count": 1,
   "metadata": {
    "collapsed": true
   },
   "outputs": [],
   "source": [
    "# from assocplots.misc import mock_data_generation\n",
    "# data_m, data_w = mock_data_generation(M=100000, seed=42)\n",
    "# data_m['pval'] /= 500000.*np.exp(-(data_m['pos']-10000.)**2/50000.0) * (data_m['chr']=='4') * np.random.rand(len(data_m)) + 1."
   ]
  },
  {
   "cell_type": "markdown",
   "metadata": {},
   "source": [
    "The actual data that we will use comes from the GIANT consortium:\n",
    "https://www.broadinstitute.org/collaboration/giant/index.php/GIANT_consortium_data_files\n",
    "\n",
    "Result are described in Randall JC, Winkler TW, Kutalik Z, Berndt SI, Jackson AU, Monda KL, et al. (2013) Sex-stratified Genome-wide Association Studies Including 270,000 Individuals Show Sexual Dimorphism in Genetic Loci for Anthropometric Traits. PLoS Genet 9(6): e1003500. doi:10.1371/journal.pgen.1003500\n",
    "http://journals.plos.org/plosgenetics/article?id=10.1371/journal.pgen.1003500\n",
    "\n",
    "In this tutorial we will be using one trait (hip circumference) measured in two groups: males and females. These are the files listed under Sex Stratified Anthropometrics subsection. For example, here is one of the files called GIANT_Randall2013PlosGenet_stage1_publicrelease_HapMapCeuFreq_HIP_WOMEN_N.txt and the first couple of lines looks like this:"
   ]
  },
  {
   "cell_type": "markdown",
   "metadata": {},
   "source": [
    "```MarkerName A1 A2 Freq.Hapmap.Ceu BETA SE.2gc P.2gc N\n",
    "rs4747841 a g 0.55 0.0054 0.0080 0.50 40354.8\n",
    "rs4749917 t c 0.45 -0.0054 0.0080 0.50 40354.8\n",
    "rs737656 a g 0.3667 0.0035 0.0083 0.67 40354.7\n",
    "rs737657 a g 0.3583 0.0020 0.0083 0.81 40351.8```"
   ]
  },
  {
   "cell_type": "markdown",
   "metadata": {},
   "source": [
    "The P.2gc column is the p-value of the association test. For the Manhattan plot, besides the p-value, we also need to know SNPs chromosome and genomic position. To obtain the chromosome number and position for each SNP I used a python script called LiftRsNumber.py from this Goncalo Abecasis’ group http://genome.sph.umich.edu/wiki/LiftOver  \n",
    "\n",
    "Since we only need to know the SNP's chromosome, position, and p-value, I generated the following file out of the one above: HIP_WOMEN_chr_pos_rs_pval.txt, where column 1 = chromosome, 2=position, 3=SNP rs number, 4=p-value"
   ]
  },
  {
   "cell_type": "markdown",
   "metadata": {},
   "source": [
    "```10 9918166 rs4747841 0.5\n",
    "10 9918296 rs4749917 0.5\n",
    "10 98252982 rs737656 0.67\n",
    "10 98253133 rs737657 0.81```"
   ]
  },
  {
   "cell_type": "markdown",
   "metadata": {},
   "source": [
    "Alternatively, you can download reduced data from https://gitlab.com/khramts/assocplots_data  \n",
    "\n",
    "# Running the code\n",
    "\n",
    "We will first load all the necessary libaries for the interative plots."
   ]
  },
  {
   "cell_type": "code",
   "execution_count": 2,
   "metadata": {
    "collapsed": false
   },
   "outputs": [],
   "source": [
    "# Load standard libraries\n",
    "import numpy as np\n",
    "from pandas import DataFrame\n",
    "from bokeh.plotting import figure, output_notebook, show, gridplot\n",
    "from bokeh.models import ColumnDataSource, widgets, CustomJS\n",
    "from bokeh.models.glyphs import Circle, Square\n",
    "from bokeh.models import HoverTool\n",
    "\n",
    "from bokeh.models import ColumnDataSource\n",
    "from bokeh.models.widgets import DataTable, DateFormatter, TableColumn\n",
    "from bokeh.io import output_file, show, vform, vplot, hplot\n",
    "\n",
    "\n",
    "from assocplots.misc import mock_data_generation\n",
    "data_m, data_w = mock_data_generation(M=100000, seed=42)\n",
    "data_m['pval'] /= 500000.*np.exp(-(data_m['pos']-10000.)**2/50000.0) * (data_m['chr']=='4') * np.random.rand(len(data_m)) + 1.\n"
   ]
  },
  {
   "cell_type": "markdown",
   "metadata": {},
   "source": [
    "Next, we will read in the data for two groups."
   ]
  },
  {
   "cell_type": "code",
   "execution_count": 3,
   "metadata": {
    "collapsed": false
   },
   "outputs": [],
   "source": [
    "# # Reading data\n",
    "# data_m = np.genfromtxt('HIP_MEN_chr_pos_rs_pval.txt', dtype=None, names=['chr', 'pos', 'snp', 'pval'])\n",
    "# data_w = np.genfromtxt('HIP_WOMEN_chr_pos_rs_pval.txt', dtype=None, names=['chr', 'pos', 'snp', 'pval'])"
   ]
  },
  {
   "cell_type": "markdown",
   "metadata": {},
   "source": [
    "Lastly, we run the code to generate an interactive plot and save it as an html file, which can be opened in a browser.  \n",
    "\n",
    "Note in the code below, that we can specify how many points to show in the plot. In general, interactive visualization made through web browsers are limited by the number of objects they can smoothly display. In the cur-rent example we have selected the top (most significant) N=1,000 SNPs in each of the two groups and are visualizing at most 2,000 dots if there is no overlap between those SNPs. "
   ]
  },
  {
   "cell_type": "code",
   "execution_count": 25,
   "metadata": {
    "collapsed": false
   },
   "outputs": [
    {
     "name": "stdout",
     "output_type": "stream",
     "text": [
      "1990\n",
      "['1', '2', '3', '4', '5', '6', '7', '8', '9', '10', '11', '12', '13', '14', '15', '16', '17', '18', '19', '20', '21', '22']\n",
      "['1', '2', '3', '4', '5', '6', '7', '8', '9', '10', '11', '12', '13', '14', '15', '16', '17', '18', '19', '20', '21', '22']\n",
      "840700\n",
      "825100\n",
      "671600\n",
      "649200\n",
      "611800\n",
      "580300\n",
      "541500\n",
      "489400\n",
      "468500\n",
      "460600\n",
      "443600\n",
      "453700\n",
      "317800\n",
      "293200\n",
      "273700\n",
      "304800\n",
      "271500\n",
      "261500\n",
      "199100\n",
      "212200\n",
      "111000\n",
      "113400\n",
      "[      0.  840700.  825100.  671600.  649200.  611800.  580300.  541500.\n",
      "  489400.  468500.  460600.  443600.  453700.  317800.  293200.  273700.\n",
      "  304800.  271500.  261500.  199100.  212200.  111000.  113400.]\n",
      "[       0.   840700.  1665800.  2337400.  2986600.  3598400.  4178700.\n",
      "  4720200.  5209600.  5678100.  6138700.  6582300.  7036000.  7353800.\n",
      "  7647000.  7920700.  8225500.  8497000.  8758500.  8957600.  9169800.\n",
      "  9280800.  9394200.]\n",
      "[       0.   840700.  1665800.  2337400.  2986600.  3598400.  4178700.\n",
      "  4720200.  5209600.  5678100.  6138700.  6582300.  7036000.  7353800.\n",
      "  7647000.  7920700.  8225500.  8497000.  8758500.  8957600.  9169800.\n",
      "  9280800.  9394200.]\n",
      "[  420350.  1253250.  2001600.  2662000.  3292500.  3888550.  4449450.\n",
      "  4964900.  5443850.  5908400.  6360500.  6809150.  7194900.  7500400.\n",
      "  7783850.  8073100.  8361250.  8627750.  8858050.  9063700.  9225300.\n",
      "  9337500.]\n",
      "['1', '2', '3', '4', '5', '6', '7', '8', '9', '10', '11', '12', '13', '14', '15', '16', '17', '18', '19', '20', '21', '22']\n"
     ]
    },
    {
     "name": "stderr",
     "output_type": "stream",
     "text": [
      "E:\\katya\\PycharmProjects\\assocplots\\assocplots\\interactive.py:232: SettingWithCopyWarning: \n",
      "A value is trying to be set on a copy of a slice from a DataFrame\n",
      "\n",
      "See the caveats in the documentation: http://pandas.pydata.org/pandas-docs/stable/indexing.html#indexing-view-versus-copy\n",
      "  ts['abspos'][ts['chr'] == chrs[i]] += xtixks_pos[i]\n",
      "E:\\katya\\PycharmProjects\\assocplots\\assocplots\\interactive.py:247: SettingWithCopyWarning: \n",
      "A value is trying to be set on a copy of a slice from a DataFrame\n",
      "\n",
      "See the caveats in the documentation: http://pandas.pydata.org/pandas-docs/stable/indexing.html#indexing-view-versus-copy\n",
      "  ts['color'][ts['chr'] == chrs[i]] = color_sequence[i % len(color_sequence)]\n",
      "E:\\katya\\PycharmProjects\\assocplots\\assocplots\\interactive.py:374: BokehDeprecationWarning: bokeh.io.vform was deprecated in Bokeh 0.12.0; please use bokeh.models.layouts.WidgetBox instead\n",
      "  p3 = vform(data_table)\n",
      "C:\\Anaconda3\\lib\\site-packages\\bokeh\\io.py:613: BokehDeprecationWarning: bokeh.models.layouts.VBoxForm was deprecated in Bokeh 0.12.0; please use bokeh.models.layouts.WidgetBox instead\n",
      "  return VBoxForm(*children, **kwargs)\n",
      "E:\\katya\\PycharmProjects\\assocplots\\assocplots\\interactive.py:377: BokehDeprecationWarning: bokeh.io.vform was deprecated in Bokeh 0.12.0; please use bokeh.models.layouts.WidgetBox instead\n",
      "  p4 = vform(data_table_filt)\n",
      "C:\\Anaconda3\\lib\\site-packages\\bokeh\\io.py:613: BokehDeprecationWarning: bokeh.models.layouts.VBoxForm was deprecated in Bokeh 0.12.0; please use bokeh.models.layouts.WidgetBox instead\n",
      "  return VBoxForm(*children, **kwargs)\n"
     ]
    }
   ],
   "source": [
    "from assocplots.interactive import *\n",
    "import matplotlib.pyplot as plt\n",
    "from matplotlib.colors import rgb2hex\n",
    "\n",
    "# cut1, cut2, data = data_reduce(data_m, data_w, N=5000)\n",
    "cut1, cut2, data = data_reduce_fast(data_m, data_w, N=1000)\n",
    "\n",
    "# You can assign any color sequence:\n",
    "colors = ['#1b9e77', \"#d95f02\", '#7570b3', '#e7298a']\n",
    "\n",
    "# Or choose a matplotlib colormap and extract colors from it:\n",
    "cmap = plt.get_cmap('viridis')\n",
    "# Select points of the colormap\n",
    "colors = [cmap(i) for i in [0.0,0.33,0.67,0.90]]\n",
    "# Converting RGB color format into HEX\n",
    "colors = [rgb2hex(colors[i]) for i in range(len(colors))]\n",
    "\n",
    "p1,p2,p3,p4,pq1 = mann_only_interactive(data, cut1, cut2, \n",
    "                                        chrs_plot=[str(i) for i in range(1,23)],\n",
    "                                        ms=3, # size of markers\n",
    "                                        color_sequence = colors, # any number of colors for M-plot\n",
    "                                       )\n",
    "# show(vplot(p1,p2))\n",
    "# show(hplot(pq1,p4))\n",
    "# show(p4)\n",
    "\n",
    "\n",
    "from assocplots.htmloutput import *\n",
    "write_to_html([p1,p2,pq1,p4], filename='output.html', title='Title')\n"
   ]
  }
 ],
 "metadata": {
  "anaconda-cloud": {},
  "kernelspec": {
   "display_name": "Python [Root]",
   "language": "python",
   "name": "Python [Root]"
  },
  "language_info": {
   "codemirror_mode": {
    "name": "ipython",
    "version": 3
   },
   "file_extension": ".py",
   "mimetype": "text/x-python",
   "name": "python",
   "nbconvert_exporter": "python",
   "pygments_lexer": "ipython3",
   "version": "3.5.2"
  }
 },
 "nbformat": 4,
 "nbformat_minor": 0
}
