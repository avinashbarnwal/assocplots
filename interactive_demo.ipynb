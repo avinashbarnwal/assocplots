{
 "cells": [
  {
   "cell_type": "code",
   "execution_count": 1,
   "metadata": {
    "collapsed": false
   },
   "outputs": [],
   "source": [
    "# Load standard libraries\n",
    "import numpy as np\n",
    "from pandas import DataFrame\n",
    "from bokeh.plotting import figure, output_notebook, show, gridplot\n",
    "from bokeh.models import ColumnDataSource, widgets, CustomJS\n",
    "from bokeh.models.glyphs import Circle, Square\n",
    "from bokeh.models import HoverTool\n",
    "\n",
    "from bokeh.models import ColumnDataSource\n",
    "from bokeh.models.widgets import DataTable, DateFormatter, TableColumn\n",
    "from bokeh.io import output_file, show, vform, vplot, hplot\n",
    "\n",
    "# output_notebook()"
   ]
  },
  {
   "cell_type": "code",
   "execution_count": 2,
   "metadata": {
    "collapsed": false
   },
   "outputs": [],
   "source": [
    "# Load AssocPlots\n",
    "\n",
    "from assocplots.misc import mock_data_generation\n",
    "\n",
    "data = mock_data_generation(M=100000)\n",
    "\n",
    "data1=data[0]\n",
    "data1['pval'] /= 500000.*np.exp(-(data1['pos']-0.5*len(data1))**2/5.0)+1.\n",
    "data2=data[1]"
   ]
  },
  {
   "cell_type": "code",
   "execution_count": 3,
   "metadata": {
    "collapsed": false
   },
   "outputs": [
    {
     "name": "stdout",
     "output_type": "stream",
     "text": [
      "rs25574\n",
      "[25574 49414 79725 ..., 50464 22732 92144]\n"
     ]
    }
   ],
   "source": [
    "print(data1['snp'][0])\n",
    "print(data1['pos'])"
   ]
  },
  {
   "cell_type": "code",
   "execution_count": 4,
   "metadata": {
    "collapsed": false
   },
   "outputs": [
    {
     "name": "stdout",
     "output_type": "stream",
     "text": [
      "1987\n"
     ]
    },
    {
     "data": {
      "text/plain": [
       "array([  1.00000000e-05,   2.00000000e-05,   3.00000000e-05, ...,\n",
       "         9.98890000e-01,   9.98890000e-01,   9.98890000e-01])"
      ]
     },
     "execution_count": 4,
     "metadata": {},
     "output_type": "execute_result"
    }
   ],
   "source": [
    "from assocplots.interactive import *\n",
    "\n",
    "cut1, cut2, data=data_reduce(data1, data2, N=1000)\n",
    "\n",
    "data['pval1_q']"
   ]
  },
  {
   "cell_type": "code",
   "execution_count": 5,
   "metadata": {
    "collapsed": false
   },
   "outputs": [],
   "source": [
    "hoverq = HoverTool(\n",
    "        tooltips=[\n",
    "            (\"snp\", \"@snp\"),\n",
    "            (\"pos\", \"@pos\"),\n",
    "            (\"-log10(pval1,pval2)\", \"(@pval1, @pval2)\"),\n",
    "        ]\n",
    "    )\n",
    "toolsq = []#['reset', 'wheel_zoom','box_select', hoverq]\n",
    "ts = DataFrame({'snp': data['snp'], \n",
    "                    'pos': data['pos'], \n",
    "                    'pval1': -np.log10(data['pval1']), \n",
    "                    'pval1_q': -np.log10(data['pval1_q']), \n",
    "                    'pval1_q_top': -np.log10(data['pval1_q_top']), \n",
    "                    'pval1_q_bot': -np.log10(data['pval1_q_bot']), \n",
    "                    'pval2': -np.log10(data['pval2'])})\n",
    "source = ColumnDataSource(data=ts)\n",
    "p1 = figure(plot_width=400, plot_height=400, tools=toolsq, webgl=True)\n",
    "r1 = p1.circle('pval1_q', 'pval1', source=source, line_color=None, size=10)\n",
    "err_x = -np.log10(np.concatenate([data['pval1_q'][:100], data['pval1_q'][100::-1]]))\n",
    "err_y = -np.log10(np.concatenate([data['pval1_q_top'][:100], data['pval1_q_bot'][100::-1]]))\n",
    "r2 = p1.patch(err_x, err_y, alpha=0.2)\n",
    "# show(p1)"
   ]
  },
  {
   "cell_type": "code",
   "execution_count": 6,
   "metadata": {
    "collapsed": false
   },
   "outputs": [],
   "source": [
    "# print(data['pval2_q_bot'][:100])"
   ]
  },
  {
   "cell_type": "code",
   "execution_count": 7,
   "metadata": {
    "collapsed": false,
    "scrolled": false
   },
   "outputs": [],
   "source": [
    "p1,p2,p3,p4,pq1 = mann_only_interactive(data, cut1, cut2)\n",
    "# show(vplot(p1,p2))\n",
    "# show(hplot(pq1,p4))\n",
    "# show(p4)"
   ]
  },
  {
   "cell_type": "code",
   "execution_count": 9,
   "metadata": {
    "collapsed": false
   },
   "outputs": [],
   "source": [
    "from assocplots.htmloutput import *\n",
    "write_to_html([p1,p2,pq1,p4], filename='output.hmtl', title='Title')"
   ]
  },
  {
   "cell_type": "code",
   "execution_count": null,
   "metadata": {
    "collapsed": true
   },
   "outputs": [],
   "source": []
  },
  {
   "cell_type": "code",
   "execution_count": null,
   "metadata": {
    "collapsed": false
   },
   "outputs": [],
   "source": []
  }
 ],
 "metadata": {
  "kernelspec": {
   "display_name": "Python 2",
   "language": "python",
   "name": "python2"
  },
  "language_info": {
   "codemirror_mode": {
    "name": "ipython",
    "version": 2
   },
   "file_extension": ".py",
   "mimetype": "text/x-python",
   "name": "python",
   "nbconvert_exporter": "python",
   "pygments_lexer": "ipython2",
   "version": "2.7.11"
  }
 },
 "nbformat": 4,
 "nbformat_minor": 0
}
